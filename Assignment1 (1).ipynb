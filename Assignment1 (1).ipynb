{
  "nbformat": 4,
  "nbformat_minor": 0,
  "metadata": {
    "colab": {
      "provenance": []
    },
    "kernelspec": {
      "name": "python3",
      "display_name": "Python 3"
    },
    "language_info": {
      "name": "python"
    }
  },
  "cells": [
    {
      "cell_type": "markdown",
      "source": [
        "#Q1. What is Python, and why is it popular?\n",
        "#Python is a high-level, interpreted programming language known for its readability and simplicity. It is popular due to its versatility, extensive libraries, and strong community support, making it suitable for web development, data analysis, artificial intelligence, scientific computing, and more."
      ],
      "metadata": {
        "id": "u0Qo_uI8KyqF"
      }
    },
    {
      "cell_type": "markdown",
      "source": [
        "#Q2. What is an interpreter in Python?\n",
        "#An interpreter in Python is a program that executes Python code line by line. It translates the high-level Python code into machine code, allowing the computer to understand and execute it. This allows for immediate feedback and debugging, making Python a great choice for rapid development."
      ],
      "metadata": {
        "id": "NfBm0lTFLGdV"
      }
    },
    {
      "cell_type": "markdown",
      "source": [
        "#Q3. What are pre-defined keywords in Python?\n",
        "#Pre-defined keywords in Python are reserved words that have special meaning in the language. They cannot be used as identifiers (variable names, function names, etc.). Examples include `if`, `else`, `for`, `while`, `def`, `class`, `import`, and `return`. These keywords define the syntax and structure of Python programs."
      ],
      "metadata": {
        "id": "IB8b3DnqLLI4"
      }
    },
    {
      "cell_type": "markdown",
      "source": [
        "#Q4.Can keywords be used as variable names?\n",
        "#No, keywords cannot be used as variable names in Python. Keywords are reserved words that have specific meanings in the language, and using them as variable names would cause syntax errors. For example, using `if` or `for` as a variable name would result in an error."
      ],
      "metadata": {
        "id": "YrS21_tILUdB"
      }
    },
    {
      "cell_type": "markdown",
      "source": [
        "#Q5.What is mutability in Python?\n",
        "#Mutability in Python refers to the ability of an object to be modified after it has been created. Mutable objects can have their values changed, while immutable objects cannot. For example, lists and dictionaries are mutable, meaning you can change their contents, while tuples and strings are immutable, meaning their contents cannot be changed once created.\n"
      ],
      "metadata": {
        "id": "L3Lw2DtmLaoS"
      }
    },
    {
      "cell_type": "markdown",
      "source": [
        "#Q6.Why are lists mutable, but tuples are immutable?\n",
        "#Lists are mutable in Python because they are designed to allow dynamic changes, such as adding, removing, or modifying elements. This flexibility is useful for many applications. Tuples, on the other hand, are immutable to provide a fixed structure that can be used as keys in dictionaries or elements in sets. This immutability ensures that the data remains constant and reliable throughout its use."
      ],
      "metadata": {
        "id": "GJJMlHNjLeAz"
      }
    },
    {
      "cell_type": "markdown",
      "source": [
        "#Q7. What is the difference between “==” and “is” operators in Python?\n",
        "#The `==` operator checks for value equality, meaning it compares the values of two objects to see if they are the same. The `is` operator checks for identity, meaning it checks whether two references point to the same object in memory. In other words, `==` checks if the contents are equal, while `is` checks if they are the same object."
      ],
      "metadata": {
        "id": "Q0QxLMxBLhAQ"
      }
    },
    {
      "cell_type": "markdown",
      "source": [
        "#Q8. What are logical operators in Python?\n",
        "#Logical operators in Python are used to combine conditional statements. The three main logical operators are:\n",
        "#1. `and`: Returns True if both operands are true.\n",
        "#2. `or`: Returns True if at least one of the operands is true."
      ],
      "metadata": {
        "id": "UVlt7PHfLk12"
      }
    },
    {
      "cell_type": "markdown",
      "source": [
        "#Q9. What is type casting in Python?\n",
        "#Type casting in Python is the process of converting one data type into another. This is useful when you want to perform operations on different types of data. For example, you can convert an integer to a string using `str()`, or a string to an integer using `int()`. Type casting allows for greater flexibility and compatibility in data manipulation."
      ],
      "metadata": {
        "id": "hKH47OVELnjI"
      }
    },
    {
      "cell_type": "markdown",
      "source": [
        "#Q10. What is the difference between implicit and explicit type casting?\n",
        "#Implicit type casting (also known as automatic type conversion) is done by Python automatically when it converts a smaller data type to a larger data type without any user intervention. For example, if you add an integer and a float, Python will automatically convert the integer to a float.\n",
        "#Explicit type casting (also known as manual type conversion) is done by the user when they explicitly convert one data type to another using functions like `int()`, `float()`, or `str()`. This gives the programmer control over the conversion process and is necessary when converting incompatible types."
      ],
      "metadata": {
        "id": "HyeEEYMoLrYR"
      }
    },
    {
      "cell_type": "markdown",
      "source": [
        "#Q11. What is the purpose of conditional statements in Python?\n",
        "#Conditional statements in Python are used to execute different blocks of code based on certain conditions. They allow for decision-making in programs, enabling the execution of specific actions when certain criteria are met. The main conditional statements in Python are `if`, `elif`, and `else`. These statements help control the flow of the program and implement logic based on conditions.\n"
      ],
      "metadata": {
        "id": "PVvzOPLjLtpy"
      }
    },
    {
      "cell_type": "markdown",
      "source": [
        "#Q12.How does the elif statement work?\n",
        "#The `elif` statement in Python is short for \"else if.\" It allows you to check multiple conditions in a sequence. If the initial `if` condition is false, Python checks the `elif` condition. If the `elif` condition is true, the corresponding block of code is executed. You can have multiple `elif` statements to check various conditions before reaching the final `else` statement, which executes if none of the previous conditions are true.\n",
        "#This structure allows for more complex decision-making in your code, enabling you to handle multiple scenarios efficiently."
      ],
      "metadata": {
        "id": "5XvPvJf3LwsB"
      }
    },
    {
      "cell_type": "markdown",
      "source": [
        "#Q13. What is the difference between for and while loops?\n",
        "#The main difference between `for` and `while` loops in Python lies in their usage and structure:\n",
        "#1. `for` loop: The `for` loop is used to iterate over a sequence (like a list, tuple, or string) or other iterable objects. It automatically handles the iteration and stops when it reaches the end of the sequence. The syntax is:\n",
        "#```python\n",
        "#for item in iterable:\n",
        "#    # Code block to execute\n",
        "#```"
      ],
      "metadata": {
        "id": "V53uxgwuLzM5"
      }
    },
    {
      "cell_type": "markdown",
      "source": [
        "#Q14. Describe a scenario where a while loop is more suitable than a for loop.\n",
        "#A while loop is more suitable than a for loop when the number of iterations is not known in advance and depends on a condition being met. For example, if you want to keep prompting a user for input until they enter a valid response, a while loop would be ideal:\n",
        "#```python\n",
        "#user_input = \"\"\n",
        "#while user_input != \"exit\":\n",
        "#    user_input = input(\"Enter 'exit' to quit: \")\n",
        "#```\n",
        "#In this case, the loop continues until the user types \"exit,\" and the number of iterations is not predetermined."
      ],
      "metadata": {
        "id": "CR_qUk98L1LS"
      }
    },
    {
      "cell_type": "markdown",
      "source": [
        "#Practical Questions"
      ],
      "metadata": {
        "id": "ucWhomIhL4XL"
      }
    },
    {
      "cell_type": "code",
      "source": [
        "#Q1.Write a Python program to print \"Hello, World!\"\n",
        "print(\"Hello, World!\")"
      ],
      "metadata": {
        "colab": {
          "base_uri": "https://localhost:8080/"
        },
        "id": "RGK0H4CETi2K",
        "outputId": "82a5992e-7287-4d50-d18f-732c6fd2d046"
      },
      "execution_count": null,
      "outputs": [
        {
          "output_type": "stream",
          "name": "stdout",
          "text": [
            "Hello, World!\n"
          ]
        }
      ]
    },
    {
      "cell_type": "code",
      "source": [
        "#Q2.Write a Python program that displays your name and age.\n",
        "name = \"Manoj Bhatt\"\n",
        "age = 20\n",
        "print(f\"My name is {name} and I am {age} years old.\")"
      ],
      "metadata": {
        "colab": {
          "base_uri": "https://localhost:8080/"
        },
        "id": "FoAepBVPTmrJ",
        "outputId": "e088ee9b-90bc-4ba1-d643-745f6551f8e8"
      },
      "execution_count": null,
      "outputs": [
        {
          "output_type": "stream",
          "name": "stdout",
          "text": [
            "My name is Manoj Bhatt and I am 20 years old.\n"
          ]
        }
      ]
    },
    {
      "cell_type": "code",
      "source": [
        "#Q3. Write code to print all the pre-defined keywords in Python using the keyword library.\n",
        "import keyword\n",
        "print(\"Pre-defined keywords in Python:\")\n",
        "for kw in keyword.kwlist:\n",
        "    print(kw)\n",
        "\n",
        "\n"
      ],
      "metadata": {
        "colab": {
          "base_uri": "https://localhost:8080/"
        },
        "id": "Z-RFy-83UYYs",
        "outputId": "36763a48-d8a0-499d-a7d5-bc560a7cb272"
      },
      "execution_count": null,
      "outputs": [
        {
          "output_type": "stream",
          "name": "stdout",
          "text": [
            "Pre-defined keywords in Python:\n",
            "False\n",
            "None\n",
            "True\n",
            "and\n",
            "as\n",
            "assert\n",
            "async\n",
            "await\n",
            "break\n",
            "class\n",
            "continue\n",
            "def\n",
            "del\n",
            "elif\n",
            "else\n",
            "except\n",
            "finally\n",
            "for\n",
            "from\n",
            "global\n",
            "if\n",
            "import\n",
            "in\n",
            "is\n",
            "lambda\n",
            "nonlocal\n",
            "not\n",
            "or\n",
            "pass\n",
            "raise\n",
            "return\n",
            "try\n",
            "while\n",
            "with\n",
            "yield\n"
          ]
        }
      ]
    },
    {
      "cell_type": "code",
      "source": [
        "#Q4. Write a program that checks if a given word is a Python keyword.\n",
        "import keyword\n",
        "\n",
        "word = input(\"Enter a word: \")\n",
        "\n",
        "if keyword.iskeyword(word):\n",
        "    print(f\"'{word}' is a Python keyword.\")\n",
        "else:\n",
        "    print(f\"'{word}' is NOT a Python keyword.\")\n",
        "\n"
      ],
      "metadata": {
        "colab": {
          "base_uri": "https://localhost:8080/"
        },
        "id": "fO078omnUiLq",
        "outputId": "84820579-8495-458d-99a2-95ea74ba6ce2"
      },
      "execution_count": null,
      "outputs": [
        {
          "output_type": "stream",
          "name": "stdout",
          "text": [
            "Enter a word: int\n",
            "'int' is NOT a Python keyword.\n"
          ]
        }
      ]
    },
    {
      "cell_type": "code",
      "source": [
        "#Q5. Create a list and tuple in Python, and demonstrate how attempting to change an element works differently for each.\n",
        "my_list = [10, 20, 30]\n",
        "my_tuple = (10, 20, 30)\n",
        "\n",
        "my_list[1] = 50\n",
        "print(\"Modified List:\", my_list)\n",
        "\n",
        "try:\n",
        "    my_tuple[1] = 50\n",
        "except TypeError as e:\n",
        "    print(\"Error:\", e)\n",
        "print(\"Tuple remains unchanged:\", my_tuple)\n"
      ],
      "metadata": {
        "colab": {
          "base_uri": "https://localhost:8080/"
        },
        "id": "mB35bMQ9Uk3m",
        "outputId": "803fd3b1-dfd3-45c2-9559-15749477bca6"
      },
      "execution_count": null,
      "outputs": [
        {
          "output_type": "stream",
          "name": "stdout",
          "text": [
            "Modified List: [10, 50, 30]\n",
            "Error: 'tuple' object does not support item assignment\n",
            "Tuple remains unchanged: (10, 20, 30)\n"
          ]
        }
      ]
    },
    {
      "cell_type": "code",
      "source": [
        "#Q6. Write a function to demonstrate the behavior of mutable and immutable arguments.\n",
        "def modify_values(mutable_list, immutable_num):\n",
        "    mutable_list.append(100)\n",
        "    immutable_num += 10\n",
        "    print(\"Inside function - List:\", mutable_list)\n",
        "    print(\"Inside function - Number:\", immutable_num)\n",
        "\n",
        "my_list = [1, 2, 3]\n",
        "my_num = 50\n",
        "\n",
        "modify_values(my_list, my_num)\n",
        "\n",
        "print(\"Outside function - List:\", my_list)\n",
        "print(\"Outside function - Number:\", my_num)\n"
      ],
      "metadata": {
        "colab": {
          "base_uri": "https://localhost:8080/"
        },
        "id": "OwhM7LRIU2p2",
        "outputId": "edc08d86-3591-406d-9217-7e25f4dfc2c9"
      },
      "execution_count": null,
      "outputs": [
        {
          "output_type": "stream",
          "name": "stdout",
          "text": [
            "Inside function - List: [1, 2, 3, 100]\n",
            "Inside function - Number: 60\n",
            "Outside function - List: [1, 2, 3, 100]\n",
            "Outside function - Number: 50\n"
          ]
        }
      ]
    },
    {
      "cell_type": "code",
      "source": [
        "#Q7. its same as 6th question"
      ],
      "metadata": {
        "id": "Q0orQ4ieU46b"
      },
      "execution_count": null,
      "outputs": []
    },
    {
      "cell_type": "code",
      "source": [
        "#Q8.Write a program to demonstrate the use of logical operators.\n",
        "a = True\n",
        "b = False\n",
        "\n",
        "print(\"a and b:\", a and b)\n",
        "print(\"a or b:\", a or b)\n",
        "print(\"not a:\", not a)\n",
        "\n",
        "x = 10\n",
        "y = 5\n",
        "\n",
        "print(\"x > 5 and y < 10:\", x > 5 and y < 10)\n",
        "print(\"x < 5 or y < 10:\", x < 5 or y < 10)\n",
        "print(\"not (x == 10):\", not (x == 10))\n"
      ],
      "metadata": {
        "colab": {
          "base_uri": "https://localhost:8080/"
        },
        "id": "NNc77QfgVJnp",
        "outputId": "2faf67e3-c103-46af-e906-2377e5355859"
      },
      "execution_count": null,
      "outputs": [
        {
          "output_type": "stream",
          "name": "stdout",
          "text": [
            "a and b: False\n",
            "a or b: True\n",
            "not a: False\n",
            "x > 5 and y < 10: True\n",
            "x < 5 or y < 10: True\n",
            "not (x == 10): False\n"
          ]
        }
      ]
    },
    {
      "cell_type": "code",
      "source": [
        "#Q9. Write a Python program to convert user input from string to integer, float, and boolean types.\n",
        "user_input = input(\"Enter a value: \")\n",
        "\n",
        "try:\n",
        "    int_value = int(user_input)\n",
        "except ValueError:\n",
        "    int_value = \"Cannot convert to int\"\n",
        "\n",
        "\n",
        "try:\n",
        "    float_value = float(user_input)\n",
        "except ValueError:\n",
        "    float_value = \"Cannot convert to float\"\n",
        "\n",
        "bool_value = bool(user_input)\n",
        "\n",
        "print(\"Integer:\", int_value)\n",
        "print(\"Float:\", float_value)\n",
        "print(\"Boolean:\", bool_value)\n",
        "\n"
      ],
      "metadata": {
        "colab": {
          "base_uri": "https://localhost:8080/"
        },
        "id": "YpbjzHXZVL-a",
        "outputId": "c3413ea5-5b97-4db9-a668-819ccd3ecafa"
      },
      "execution_count": null,
      "outputs": [
        {
          "output_type": "stream",
          "name": "stdout",
          "text": [
            "Enter a value: 10\n",
            "Integer: 10\n",
            "Float: 10.0\n",
            "Boolean: True\n"
          ]
        }
      ]
    },
    {
      "cell_type": "code",
      "source": [
        "#Q10. Write code to demonstrate type casting with list elements.\n",
        "my_list = [1, 2, 3, 4, 5]\n",
        "my_list_str = [str(num) for num in my_list]\n",
        "print(\"Original List:\", my_list)\n",
        "print(\"List after type casting to strings:\", my_list_str)\n"
      ],
      "metadata": {
        "colab": {
          "base_uri": "https://localhost:8080/"
        },
        "id": "6L0BKkOFVOqA",
        "outputId": "295cc193-6199-4680-d101-8eb4c30efb5f"
      },
      "execution_count": null,
      "outputs": [
        {
          "output_type": "stream",
          "name": "stdout",
          "text": [
            "Original List: [1, 2, 3, 4, 5]\n",
            "List after type casting to strings: ['1', '2', '3', '4', '5']\n"
          ]
        }
      ]
    },
    {
      "cell_type": "code",
      "source": [
        "#Q11. Write a program that checks if a number is positive, negative, or zero.\n",
        "try:\n",
        "    num = float(input(\"Enter a number: \"))\n",
        "\n",
        "    if num > 2:\n",
        "        print(\"The number is positive.\")\n",
        "    elif num < 0:\n",
        "        print(\"The number is negative.\")\n",
        "    else:\n",
        "        print(\"The number is zero.\")\n",
        "\n",
        "except ValueError:\n",
        "    print(\"Invalid input! Please enter a valid number.\")\n",
        "\n",
        "\n"
      ],
      "metadata": {
        "colab": {
          "base_uri": "https://localhost:8080/"
        },
        "id": "W7noB25LVxD-",
        "outputId": "d324955c-9e7c-4818-c8aa-6c6cfedc0e84"
      },
      "execution_count": null,
      "outputs": [
        {
          "output_type": "stream",
          "name": "stdout",
          "text": [
            "Enter a number: 7\n",
            "The number is positive.\n"
          ]
        }
      ]
    },
    {
      "cell_type": "code",
      "source": [
        "#Q12. Write a for loop to print numbers from 1 to 10.\n",
        "for i in range(1, 11):\n",
        "    print(i, end=\" \")\n",
        "print()\n",
        "\n"
      ],
      "metadata": {
        "colab": {
          "base_uri": "https://localhost:8080/"
        },
        "id": "urIexHU9V3h-",
        "outputId": "29541ea7-1dcd-4b43-c181-ce1114dc6988"
      },
      "execution_count": null,
      "outputs": [
        {
          "output_type": "stream",
          "name": "stdout",
          "text": [
            "1 2 3 4 5 6 7 8 9 10 \n"
          ]
        }
      ]
    },
    {
      "cell_type": "code",
      "source": [
        "#Q13. Write a Python program to find the sum of all even numbers between 1 and 50.\n",
        "sum_even = sum(num for num in range(1, 51) if num % 2 == 0)\n",
        "print(\"Sum of all even numbers between 1 and 50:\", sum_even)\n"
      ],
      "metadata": {
        "colab": {
          "base_uri": "https://localhost:8080/"
        },
        "id": "XFdCkXLuV8TV",
        "outputId": "92f03323-79f8-4142-8d34-107a7f46c4dc"
      },
      "execution_count": null,
      "outputs": [
        {
          "output_type": "stream",
          "name": "stdout",
          "text": [
            "Sum of all even numbers between 1 and 50: 650\n"
          ]
        }
      ]
    },
    {
      "cell_type": "code",
      "source": [
        "#Q14. Write a program to reverse a string using a while loop.\n",
        "string = input(\"Enter a string: \")\n",
        "reversed_string = \"\"\n",
        "index = len(string) - 1\n",
        "while index >= 0:\n",
        "    reversed_string += string[index]\n",
        "    index -= 1\n",
        "print(\"Reversed string:\", reversed_string)"
      ],
      "metadata": {
        "colab": {
          "base_uri": "https://localhost:8080/"
        },
        "id": "tngJ27n5V-qm",
        "outputId": "93f4484a-f2b0-4378-bbf9-dd196fa7ccca"
      },
      "execution_count": null,
      "outputs": [
        {
          "output_type": "stream",
          "name": "stdout",
          "text": [
            "Enter a string: manoj\n",
            "Reversed string: jonam\n"
          ]
        }
      ]
    },
    {
      "cell_type": "code",
      "source": [
        "#Q15. Write a Python program to calculate the factorial of a number provided by the user using a while loop.\n",
        "try:\n",
        "    num = int(input(\"Enter a number: \"))\n",
        "\n",
        "    if num < 0:\n",
        "        print(\"Factorial is not defined for negative numbers.\")\n",
        "    else:\n",
        "        factorial = 1\n",
        "        i = 1\n",
        "\n",
        "        while i <= num:\n",
        "            factorial *= i\n",
        "            i += 1\n",
        "\n",
        "        print(\"Factorial of\", num, \"is\", factorial)\n",
        "\n",
        "except ValueError:\n",
        "    print(\"Invalid input! Please enter a valid integer.\")\n",
        "\n",
        "\n"
      ],
      "metadata": {
        "colab": {
          "base_uri": "https://localhost:8080/"
        },
        "id": "EGzoKv7lWD8W",
        "outputId": "02136427-1851-457b-b688-ea37355529d4"
      },
      "execution_count": null,
      "outputs": [
        {
          "output_type": "stream",
          "name": "stdout",
          "text": [
            "Enter a number: 7\n",
            "Factorial of 7 is 5040\n"
          ]
        }
      ]
    },
    {
      "cell_type": "code",
      "source": [],
      "metadata": {
        "id": "MKO4sWTbWRJC"
      },
      "execution_count": null,
      "outputs": []
    }
  ]
}